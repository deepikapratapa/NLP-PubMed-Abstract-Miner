{
 "cells": [
  {
   "cell_type": "markdown",
   "id": "d4c8f543-9565-48f7-affe-e7e3f6de4518",
   "metadata": {},
   "source": [
    "## NLP PubMed Miner"
   ]
  },
  {
   "cell_type": "markdown",
   "id": "080ba755-e47f-46d0-ae01-140d8b86c28d",
   "metadata": {},
   "source": [
    "### 1.1 Importing Libraries"
   ]
  },
  {
   "cell_type": "code",
   "execution_count": 1,
   "id": "18b3d73f-a2da-44f9-bc32-512e7399d86d",
   "metadata": {},
   "outputs": [],
   "source": [
    "from Bio import Entrez\n",
    "from Bio import Medline\n",
    "from io import StringIO\n",
    "import pandas as pd\n",
    "import time"
   ]
  },
  {
   "cell_type": "markdown",
   "id": "3740d2a7-99e6-4692-8699-5bb069adef87",
   "metadata": {},
   "source": [
    "### 1.2 Setup Entrez Parameters"
   ]
  },
  {
   "cell_type": "code",
   "execution_count": 2,
   "id": "ae1930a4-2d8e-45b0-970a-e07b95ed780d",
   "metadata": {},
   "outputs": [],
   "source": [
    "Entrez.email = \"deepikapratapa27@gmail.com\""
   ]
  },
  {
   "cell_type": "markdown",
   "id": "5a8e97bf-9d14-45e2-95e8-e094f35aea51",
   "metadata": {},
   "source": [
    "### 1.3 Search and Fetch Abstracts"
   ]
  },
  {
   "cell_type": "code",
   "execution_count": 3,
   "id": "2c3fed95-327b-49ad-9bdf-5cac19a8184c",
   "metadata": {},
   "outputs": [],
   "source": [
    "def fetch_pubmed_abstracts(query, max_records=100, retstart=0):\n",
    "    \"\"\"\n",
    "    Fetch PubMed abstracts based on a search query.\n",
    "    \"\"\"\n",
    "    handle = Entrez.esearch(db=\"pubmed\", term=query, retmax=max_records, retstart=retstart)\n",
    "    record = Entrez.read(handle)\n",
    "    id_list = record[\"IdList\"]\n",
    "    \n",
    "    if not id_list:\n",
    "        return []\n",
    "    \n",
    "    handle = Entrez.efetch(db=\"pubmed\", id=id_list, rettype=\"medline\", retmode=\"text\")\n",
    "    abstracts = handle.read()\n",
    "    return abstracts"
   ]
  },
  {
   "cell_type": "markdown",
   "id": "713fee21-25d6-48e6-8009-714ad8dea612",
   "metadata": {},
   "source": [
    "### 1.4 Save Abstracts in DataFrame"
   ]
  },
  {
   "cell_type": "code",
   "execution_count": 4,
   "id": "bdca7f8a-8ea9-4399-91b8-ec0410c865a7",
   "metadata": {},
   "outputs": [],
   "source": [
    "def parse_abstracts(raw_text):\n",
    "    \"\"\"\n",
    "    Parse MEDLINE-formatted abstracts into structured records.\n",
    "    \"\"\"\n",
    "    records = list(Medline.parse(StringIO(raw_text)))\n",
    "    \n",
    "    cleaned = []\n",
    "    for record in records:\n",
    "        cleaned.append({\n",
    "            'PMID': record.get('PMID', ''),\n",
    "            'Title': record.get('TI', ''),\n",
    "            'Abstract': record.get('AB', ''),\n",
    "            'Date': record.get('DP', '')\n",
    "        })\n",
    "    \n",
    "    return pd.DataFrame(cleaned)"
   ]
  },
  {
   "cell_type": "markdown",
   "id": "f9629d35-7177-4b6a-97d1-cd734f193479",
   "metadata": {},
   "source": [
    "### 1.5 Run for Term"
   ]
  },
  {
   "cell_type": "code",
   "execution_count": 5,
   "id": "7d7f4e5a-db59-433e-9718-f77d3226a752",
   "metadata": {},
   "outputs": [
    {
     "data": {
      "text/html": [
       "<div>\n",
       "<style scoped>\n",
       "    .dataframe tbody tr th:only-of-type {\n",
       "        vertical-align: middle;\n",
       "    }\n",
       "\n",
       "    .dataframe tbody tr th {\n",
       "        vertical-align: top;\n",
       "    }\n",
       "\n",
       "    .dataframe thead th {\n",
       "        text-align: right;\n",
       "    }\n",
       "</style>\n",
       "<table border=\"1\" class=\"dataframe\">\n",
       "  <thead>\n",
       "    <tr style=\"text-align: right;\">\n",
       "      <th></th>\n",
       "      <th>PMID</th>\n",
       "      <th>Title</th>\n",
       "      <th>Abstract</th>\n",
       "      <th>Date</th>\n",
       "    </tr>\n",
       "  </thead>\n",
       "  <tbody>\n",
       "    <tr>\n",
       "      <th>0</th>\n",
       "      <td>40747162</td>\n",
       "      <td>Methicillin-Resistant Staphylococcus aureus Re...</td>\n",
       "      <td>Renal abscesses are rare in children. This rep...</td>\n",
       "      <td>2025 Jul</td>\n",
       "    </tr>\n",
       "    <tr>\n",
       "      <th>1</th>\n",
       "      <td>40746790</td>\n",
       "      <td>Diverse Manifestations of Central Nervous Syst...</td>\n",
       "      <td>OBJECTIVES: This study aims to evaluate and ch...</td>\n",
       "      <td>2025 Jun</td>\n",
       "    </tr>\n",
       "    <tr>\n",
       "      <th>2</th>\n",
       "      <td>40742524</td>\n",
       "      <td>Anti-chikungunya Activity of a Cinnamic Acid D...</td>\n",
       "      <td>Chikungunya virus (CHIKV) is an arthropod-born...</td>\n",
       "      <td>2025 Jul 31</td>\n",
       "    </tr>\n",
       "    <tr>\n",
       "      <th>3</th>\n",
       "      <td>40742003</td>\n",
       "      <td>Paradoxical Hemoglobin Drop Post-Transfusion: ...</td>\n",
       "      <td>Hyperhaemolysis syndrome (HHS) is a rare, seve...</td>\n",
       "      <td>2025 Jul 31</td>\n",
       "    </tr>\n",
       "    <tr>\n",
       "      <th>4</th>\n",
       "      <td>40741554</td>\n",
       "      <td>Clinico-Epidemiological Profile of Dengue in C...</td>\n",
       "      <td>Background Dengue has emerged as the most comm...</td>\n",
       "      <td>2025 Jun</td>\n",
       "    </tr>\n",
       "  </tbody>\n",
       "</table>\n",
       "</div>"
      ],
      "text/plain": [
       "       PMID                                              Title  \\\n",
       "0  40747162  Methicillin-Resistant Staphylococcus aureus Re...   \n",
       "1  40746790  Diverse Manifestations of Central Nervous Syst...   \n",
       "2  40742524  Anti-chikungunya Activity of a Cinnamic Acid D...   \n",
       "3  40742003  Paradoxical Hemoglobin Drop Post-Transfusion: ...   \n",
       "4  40741554  Clinico-Epidemiological Profile of Dengue in C...   \n",
       "\n",
       "                                            Abstract         Date  \n",
       "0  Renal abscesses are rare in children. This rep...     2025 Jul  \n",
       "1  OBJECTIVES: This study aims to evaluate and ch...     2025 Jun  \n",
       "2  Chikungunya virus (CHIKV) is an arthropod-born...  2025 Jul 31  \n",
       "3  Hyperhaemolysis syndrome (HHS) is a rare, seve...  2025 Jul 31  \n",
       "4  Background Dengue has emerged as the most comm...     2025 Jun  "
      ]
     },
     "execution_count": 5,
     "metadata": {},
     "output_type": "execute_result"
    }
   ],
   "source": [
    "query = \"fever AND India\"\n",
    "raw_data = fetch_pubmed_abstracts(query, max_records=100)\n",
    "df = parse_abstracts(raw_data)\n",
    "\n",
    "# Show results\n",
    "df.head()"
   ]
  },
  {
   "cell_type": "markdown",
   "id": "7f24bfed-969c-4fab-ba3a-9b3e74549453",
   "metadata": {},
   "source": [
    "### 1.6 Save to CSV"
   ]
  },
  {
   "cell_type": "code",
   "execution_count": 6,
   "id": "444cfa69-ac12-414b-ba29-8166b192b51e",
   "metadata": {},
   "outputs": [],
   "source": [
    "df.to_csv(\"../Pubmed-NLP/data/pubmed_fever_india.csv\", index=False)"
   ]
  },
  {
   "cell_type": "code",
   "execution_count": null,
   "id": "b4b27a15-f2bd-4e7d-86dc-00de4ed4d928",
   "metadata": {},
   "outputs": [],
   "source": []
  }
 ],
 "metadata": {
  "kernelspec": {
   "display_name": "Python 3 (ipykernel)",
   "language": "python",
   "name": "python3"
  },
  "language_info": {
   "codemirror_mode": {
    "name": "ipython",
    "version": 3
   },
   "file_extension": ".py",
   "mimetype": "text/x-python",
   "name": "python",
   "nbconvert_exporter": "python",
   "pygments_lexer": "ipython3",
   "version": "3.10.18"
  }
 },
 "nbformat": 4,
 "nbformat_minor": 5
}
