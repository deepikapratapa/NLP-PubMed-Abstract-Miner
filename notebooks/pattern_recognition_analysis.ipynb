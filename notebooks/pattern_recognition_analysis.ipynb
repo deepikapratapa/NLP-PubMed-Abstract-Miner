{
 "cells": [
  {
   "cell_type": "markdown",
   "id": "8df756bf-b0ea-4c41-9d3b-88b0391f3dc3",
   "metadata": {},
   "source": [
    "## NLP PubMed Miner"
   ]
  },
  {
   "cell_type": "markdown",
   "id": "cf4dacfa-8940-4d5c-bc61-dc3527eebf7c",
   "metadata": {},
   "source": [
    "### 3.1 Importing Libraries"
   ]
  },
  {
   "cell_type": "code",
   "execution_count": 1,
   "id": "191d6006-0e08-4380-9312-a5fd276e56bb",
   "metadata": {},
   "outputs": [],
   "source": [
    "import pandas as pd\n",
    "import ast\n",
    "from collections import Counter\n",
    "import itertools"
   ]
  },
  {
   "cell_type": "markdown",
   "id": "77de3a95-55a2-4025-9c7d-3d0ac9e709a9",
   "metadata": {},
   "source": [
    "### 3.2 Loading Data"
   ]
  },
  {
   "cell_type": "code",
   "execution_count": 2,
   "id": "697c581f-ed4e-4716-b751-64c79331fc48",
   "metadata": {},
   "outputs": [],
   "source": [
    "df = pd.read_csv(\"../Pubmed-NLP/data/abstracts_with_entities.csv\")"
   ]
  },
  {
   "cell_type": "code",
   "execution_count": 3,
   "id": "1f45340c-d3e5-438a-b708-75c05a3406e1",
   "metadata": {},
   "outputs": [],
   "source": [
    "# Convert 'Entities' and 'Countries' columns from string to list\n",
    "df[\"Entities\"] = df[\"Entities\"].apply(ast.literal_eval)\n",
    "df[\"Countries\"] = df[\"Countries\"].apply(ast.literal_eval)"
   ]
  },
  {
   "cell_type": "code",
   "execution_count": 4,
   "id": "edb24cd9-11dc-4876-8015-1577dc62f589",
   "metadata": {},
   "outputs": [],
   "source": [
    "# Filter rows where both entities and countries exist\n",
    "df_clean = df[(df[\"Entities\"].str.len() > 0) & (df[\"Countries\"].str.len() > 0)].copy()"
   ]
  },
  {
   "cell_type": "markdown",
   "id": "1612fe5b-151b-4082-8217-69d5ca330a76",
   "metadata": {},
   "source": [
    "### 3.3 Extract Possible Symptom–Region–Disease Triplets"
   ]
  },
  {
   "cell_type": "code",
   "execution_count": 5,
   "id": "80e0018a-f0e1-4ab6-8a37-832dfbffd8b5",
   "metadata": {},
   "outputs": [],
   "source": [
    "# WHITELIST of valid clinical terms (symptoms/diseases)\n",
    "CLINICAL_TERMS = {\n",
    "    \"fever\", \"rash\", \"vomiting\", \"diarrhea\", \"cough\", \"headache\", \"fatigue\",\n",
    "    \"dengue\", \"zika\", \"malaria\", \"cholera\", \"typhoid\", \"jaundice\", \"influenza\",\n",
    "    \"sepsis\", \"tuberculosis\", \"hepatitis\", \"asthma\", \"covid-19\",\n",
    "    \"sore throat\", \"shortness of breath\", \"nausea\", \"pain\", \"infection\"\n",
    "}"
   ]
  },
  {
   "cell_type": "code",
   "execution_count": 6,
   "id": "ff75434a-f599-4f78-8123-fceb9c5a3be7",
   "metadata": {},
   "outputs": [],
   "source": [
    "# Clean each entity to keep only whitelist matches\n",
    "def clean_entity(e):\n",
    "    e = e.lower().strip()\n",
    "    return e in CLINICAL_TERMS\n",
    "\n",
    "# Count triplets: (symptom, disease, country)\n",
    "triplet_counter = Counter()\n",
    "\n",
    "for _, row in df_clean.iterrows():\n",
    "    entities = row[\"Entities\"]\n",
    "    countries = row[\"Countries\"]\n",
    "\n",
    "    if not entities or not countries:\n",
    "        continue\n",
    "\n",
    "    # Filter to only valid clinical terms\n",
    "    cleaned_entities = [e.lower().strip() for e in entities if clean_entity(e)]\n",
    "    \n",
    "    if len(cleaned_entities) < 2:\n",
    "        continue  # Need at least a pair\n",
    "\n",
    "    for country in countries:\n",
    "        country = country.lower()\n",
    "        for pair in itertools.combinations(set(cleaned_entities), 2):\n",
    "            symptom, disease = tuple(sorted(pair))\n",
    "            triplet = (symptom, disease, country)\n",
    "            triplet_counter[triplet] += 1\n"
   ]
  },
  {
   "cell_type": "code",
   "execution_count": 7,
   "id": "b0e966e0-6e7a-4967-be82-64bb12597d38",
   "metadata": {},
   "outputs": [
    {
     "data": {
      "text/html": [
       "<div>\n",
       "<style scoped>\n",
       "    .dataframe tbody tr th:only-of-type {\n",
       "        vertical-align: middle;\n",
       "    }\n",
       "\n",
       "    .dataframe tbody tr th {\n",
       "        vertical-align: top;\n",
       "    }\n",
       "\n",
       "    .dataframe thead th {\n",
       "        text-align: right;\n",
       "    }\n",
       "</style>\n",
       "<table border=\"1\" class=\"dataframe\">\n",
       "  <thead>\n",
       "    <tr style=\"text-align: right;\">\n",
       "      <th></th>\n",
       "      <th>Symptom</th>\n",
       "      <th>Disease</th>\n",
       "      <th>Country</th>\n",
       "      <th>Count</th>\n",
       "    </tr>\n",
       "  </thead>\n",
       "  <tbody>\n",
       "    <tr>\n",
       "      <th>4</th>\n",
       "      <td>fever</td>\n",
       "      <td>vomiting</td>\n",
       "      <td>india</td>\n",
       "      <td>5</td>\n",
       "    </tr>\n",
       "    <tr>\n",
       "      <th>5</th>\n",
       "      <td>dengue</td>\n",
       "      <td>fever</td>\n",
       "      <td>india</td>\n",
       "      <td>5</td>\n",
       "    </tr>\n",
       "    <tr>\n",
       "      <th>19</th>\n",
       "      <td>fever</td>\n",
       "      <td>headache</td>\n",
       "      <td>india</td>\n",
       "      <td>3</td>\n",
       "    </tr>\n",
       "    <tr>\n",
       "      <th>6</th>\n",
       "      <td>dengue</td>\n",
       "      <td>vomiting</td>\n",
       "      <td>india</td>\n",
       "      <td>3</td>\n",
       "    </tr>\n",
       "    <tr>\n",
       "      <th>29</th>\n",
       "      <td>dengue</td>\n",
       "      <td>malaria</td>\n",
       "      <td>india</td>\n",
       "      <td>2</td>\n",
       "    </tr>\n",
       "    <tr>\n",
       "      <th>53</th>\n",
       "      <td>headache</td>\n",
       "      <td>vomiting</td>\n",
       "      <td>india</td>\n",
       "      <td>2</td>\n",
       "    </tr>\n",
       "    <tr>\n",
       "      <th>26</th>\n",
       "      <td>fever</td>\n",
       "      <td>infection</td>\n",
       "      <td>india</td>\n",
       "      <td>2</td>\n",
       "    </tr>\n",
       "    <tr>\n",
       "      <th>28</th>\n",
       "      <td>fever</td>\n",
       "      <td>malaria</td>\n",
       "      <td>india</td>\n",
       "      <td>2</td>\n",
       "    </tr>\n",
       "    <tr>\n",
       "      <th>56</th>\n",
       "      <td>dengue</td>\n",
       "      <td>zika</td>\n",
       "      <td>india</td>\n",
       "      <td>2</td>\n",
       "    </tr>\n",
       "    <tr>\n",
       "      <th>43</th>\n",
       "      <td>dengue</td>\n",
       "      <td>vomiting</td>\n",
       "      <td>burkina faso</td>\n",
       "      <td>1</td>\n",
       "    </tr>\n",
       "    <tr>\n",
       "      <th>46</th>\n",
       "      <td>malaria</td>\n",
       "      <td>vomiting</td>\n",
       "      <td>burkina faso</td>\n",
       "      <td>1</td>\n",
       "    </tr>\n",
       "    <tr>\n",
       "      <th>45</th>\n",
       "      <td>headache</td>\n",
       "      <td>malaria</td>\n",
       "      <td>burkina faso</td>\n",
       "      <td>1</td>\n",
       "    </tr>\n",
       "    <tr>\n",
       "      <th>44</th>\n",
       "      <td>fever</td>\n",
       "      <td>malaria</td>\n",
       "      <td>burkina faso</td>\n",
       "      <td>1</td>\n",
       "    </tr>\n",
       "    <tr>\n",
       "      <th>0</th>\n",
       "      <td>fever</td>\n",
       "      <td>headache</td>\n",
       "      <td>united states</td>\n",
       "      <td>1</td>\n",
       "    </tr>\n",
       "    <tr>\n",
       "      <th>48</th>\n",
       "      <td>fever</td>\n",
       "      <td>vomiting</td>\n",
       "      <td>burkina faso</td>\n",
       "      <td>1</td>\n",
       "    </tr>\n",
       "  </tbody>\n",
       "</table>\n",
       "</div>"
      ],
      "text/plain": [
       "     Symptom    Disease        Country  Count\n",
       "4      fever   vomiting          india      5\n",
       "5     dengue      fever          india      5\n",
       "19     fever   headache          india      3\n",
       "6     dengue   vomiting          india      3\n",
       "29    dengue    malaria          india      2\n",
       "53  headache   vomiting          india      2\n",
       "26     fever  infection          india      2\n",
       "28     fever    malaria          india      2\n",
       "56    dengue       zika          india      2\n",
       "43    dengue   vomiting   burkina faso      1\n",
       "46   malaria   vomiting   burkina faso      1\n",
       "45  headache    malaria   burkina faso      1\n",
       "44     fever    malaria   burkina faso      1\n",
       "0      fever   headache  united states      1\n",
       "48     fever   vomiting   burkina faso      1"
      ]
     },
     "execution_count": 7,
     "metadata": {},
     "output_type": "execute_result"
    }
   ],
   "source": [
    "# Create co-occurrence DataFrame\n",
    "cooc_df = pd.DataFrame([\n",
    "    {\"Symptom\": t[0], \"Disease\": t[1], \"Country\": t[2], \"Count\": c}\n",
    "    for t, c in triplet_counter.items()\n",
    "])\n",
    "# Sort and view top 15 patterns\n",
    "cooc_df = cooc_df.sort_values(by=\"Count\", ascending=False)\n",
    "cooc_df.head(15)"
   ]
  },
  {
   "cell_type": "markdown",
   "id": "b135e80f-b17f-421c-b2a8-dae6a1073c17",
   "metadata": {},
   "source": [
    "### 3.4 Save Output"
   ]
  },
  {
   "cell_type": "code",
   "execution_count": 8,
   "id": "0c0d493b-2b4a-4080-a5f3-9d0a66e5dff8",
   "metadata": {},
   "outputs": [],
   "source": [
    "cooc_df.to_csv(\"../Pubmed-NLP/data/cooccurrence_matrix_filtered.csv\", index=False)"
   ]
  }
 ],
 "metadata": {
  "kernelspec": {
   "display_name": "Python 3 (ipykernel)",
   "language": "python",
   "name": "python3"
  },
  "language_info": {
   "codemirror_mode": {
    "name": "ipython",
    "version": 3
   },
   "file_extension": ".py",
   "mimetype": "text/x-python",
   "name": "python",
   "nbconvert_exporter": "python",
   "pygments_lexer": "ipython3",
   "version": "3.10.18"
  }
 },
 "nbformat": 4,
 "nbformat_minor": 5
}
