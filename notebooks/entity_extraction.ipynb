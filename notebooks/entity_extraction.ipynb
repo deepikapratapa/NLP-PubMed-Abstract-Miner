{
 "cells": [
  {
   "cell_type": "markdown",
   "id": "abd51aa9-de28-4f9b-9c1a-52d0cdd079c9",
   "metadata": {},
   "source": [
    "## NLP PubMed Miner"
   ]
  },
  {
   "cell_type": "markdown",
   "id": "a29f058d-7fe6-4bb8-a430-892d77cf46fa",
   "metadata": {},
   "source": [
    "### 2.1 Importing Libraries"
   ]
  },
  {
   "cell_type": "code",
   "execution_count": 1,
   "id": "eedf6e3a-7e54-42da-9184-c7c7b6a599ad",
   "metadata": {},
   "outputs": [],
   "source": [
    "import spacy\n",
    "import pycountry\n",
    "import pandas as pd"
   ]
  },
  {
   "cell_type": "markdown",
   "id": "a9cbb093-dbc0-4789-9bd7-672a8e100187",
   "metadata": {},
   "source": [
    "### 2.2 Loading Data"
   ]
  },
  {
   "cell_type": "code",
   "execution_count": 2,
   "id": "61d92595-291b-40df-ab9c-1bf14c6ff26d",
   "metadata": {},
   "outputs": [
    {
     "data": {
      "text/html": [
       "<div>\n",
       "<style scoped>\n",
       "    .dataframe tbody tr th:only-of-type {\n",
       "        vertical-align: middle;\n",
       "    }\n",
       "\n",
       "    .dataframe tbody tr th {\n",
       "        vertical-align: top;\n",
       "    }\n",
       "\n",
       "    .dataframe thead th {\n",
       "        text-align: right;\n",
       "    }\n",
       "</style>\n",
       "<table border=\"1\" class=\"dataframe\">\n",
       "  <thead>\n",
       "    <tr style=\"text-align: right;\">\n",
       "      <th></th>\n",
       "      <th>PMID</th>\n",
       "      <th>Title</th>\n",
       "      <th>Abstract</th>\n",
       "      <th>Date</th>\n",
       "    </tr>\n",
       "  </thead>\n",
       "  <tbody>\n",
       "    <tr>\n",
       "      <th>0</th>\n",
       "      <td>40747162</td>\n",
       "      <td>Methicillin-Resistant Staphylococcus aureus Re...</td>\n",
       "      <td>Renal abscesses are rare in children. This rep...</td>\n",
       "      <td>2025 Jul</td>\n",
       "    </tr>\n",
       "    <tr>\n",
       "      <th>1</th>\n",
       "      <td>40746790</td>\n",
       "      <td>Diverse Manifestations of Central Nervous Syst...</td>\n",
       "      <td>OBJECTIVES: This study aims to evaluate and ch...</td>\n",
       "      <td>2025 Jun</td>\n",
       "    </tr>\n",
       "    <tr>\n",
       "      <th>2</th>\n",
       "      <td>40742524</td>\n",
       "      <td>Anti-chikungunya Activity of a Cinnamic Acid D...</td>\n",
       "      <td>Chikungunya virus (CHIKV) is an arthropod-born...</td>\n",
       "      <td>2025 Jul 31</td>\n",
       "    </tr>\n",
       "    <tr>\n",
       "      <th>3</th>\n",
       "      <td>40742003</td>\n",
       "      <td>Paradoxical Hemoglobin Drop Post-Transfusion: ...</td>\n",
       "      <td>Hyperhaemolysis syndrome (HHS) is a rare, seve...</td>\n",
       "      <td>2025 Jul 31</td>\n",
       "    </tr>\n",
       "    <tr>\n",
       "      <th>4</th>\n",
       "      <td>40741554</td>\n",
       "      <td>Clinico-Epidemiological Profile of Dengue in C...</td>\n",
       "      <td>Background Dengue has emerged as the most comm...</td>\n",
       "      <td>2025 Jun</td>\n",
       "    </tr>\n",
       "  </tbody>\n",
       "</table>\n",
       "</div>"
      ],
      "text/plain": [
       "       PMID                                              Title  \\\n",
       "0  40747162  Methicillin-Resistant Staphylococcus aureus Re...   \n",
       "1  40746790  Diverse Manifestations of Central Nervous Syst...   \n",
       "2  40742524  Anti-chikungunya Activity of a Cinnamic Acid D...   \n",
       "3  40742003  Paradoxical Hemoglobin Drop Post-Transfusion: ...   \n",
       "4  40741554  Clinico-Epidemiological Profile of Dengue in C...   \n",
       "\n",
       "                                            Abstract         Date  \n",
       "0  Renal abscesses are rare in children. This rep...     2025 Jul  \n",
       "1  OBJECTIVES: This study aims to evaluate and ch...     2025 Jun  \n",
       "2  Chikungunya virus (CHIKV) is an arthropod-born...  2025 Jul 31  \n",
       "3  Hyperhaemolysis syndrome (HHS) is a rare, seve...  2025 Jul 31  \n",
       "4  Background Dengue has emerged as the most comm...     2025 Jun  "
      ]
     },
     "execution_count": 2,
     "metadata": {},
     "output_type": "execute_result"
    }
   ],
   "source": [
    "import pandas as pd\n",
    "\n",
    "# Load data collected\n",
    "df = pd.read_csv(\"../Pubmed-NLP/data/pubmed_fever_india.csv\")\n",
    "df.head()"
   ]
  },
  {
   "cell_type": "markdown",
   "id": "7afe0023-f4c9-4e58-af80-1c9376cf4f01",
   "metadata": {},
   "source": [
    "### 2.3 Load scispaCy and Extract Entities"
   ]
  },
  {
   "cell_type": "code",
   "execution_count": 3,
   "id": "26b11df4-f4c9-4835-b615-b099550d38cf",
   "metadata": {},
   "outputs": [],
   "source": [
    "# Load clinical model\n",
    "nlp = spacy.load(\"en_core_sci_md\")\n",
    "\n",
    "def extract_entities(text):\n",
    "    if pd.isna(text) or not isinstance(text, str):\n",
    "        return []\n",
    "    doc = nlp(text)\n",
    "    return [ent.text.lower() for ent in doc.ents if len(ent.text) > 2]"
   ]
  },
  {
   "cell_type": "markdown",
   "id": "cf8597e2-eb2e-47a7-97b6-83ec9ea38f66",
   "metadata": {},
   "source": [
    "### 2.4 Applying to Data Frame"
   ]
  },
  {
   "cell_type": "code",
   "execution_count": 4,
   "id": "b7a2780d-722c-465b-a2c3-b36334415bea",
   "metadata": {},
   "outputs": [
    {
     "data": {
      "text/html": [
       "<div>\n",
       "<style scoped>\n",
       "    .dataframe tbody tr th:only-of-type {\n",
       "        vertical-align: middle;\n",
       "    }\n",
       "\n",
       "    .dataframe tbody tr th {\n",
       "        vertical-align: top;\n",
       "    }\n",
       "\n",
       "    .dataframe thead th {\n",
       "        text-align: right;\n",
       "    }\n",
       "</style>\n",
       "<table border=\"1\" class=\"dataframe\">\n",
       "  <thead>\n",
       "    <tr style=\"text-align: right;\">\n",
       "      <th></th>\n",
       "      <th>Title</th>\n",
       "      <th>Entities</th>\n",
       "    </tr>\n",
       "  </thead>\n",
       "  <tbody>\n",
       "    <tr>\n",
       "      <th>0</th>\n",
       "      <td>Methicillin-Resistant Staphylococcus aureus Re...</td>\n",
       "      <td>[renal abscesses, children, report, case, rena...</td>\n",
       "    </tr>\n",
       "    <tr>\n",
       "      <th>1</th>\n",
       "      <td>Diverse Manifestations of Central Nervous Syst...</td>\n",
       "      <td>[objectives, study, evaluate, characterize, di...</td>\n",
       "    </tr>\n",
       "    <tr>\n",
       "      <th>2</th>\n",
       "      <td>Anti-chikungunya Activity of a Cinnamic Acid D...</td>\n",
       "      <td>[chikungunya virus, chikv, arthropod-borne vir...</td>\n",
       "    </tr>\n",
       "    <tr>\n",
       "      <th>3</th>\n",
       "      <td>Paradoxical Hemoglobin Drop Post-Transfusion: ...</td>\n",
       "      <td>[hyperhaemolysis syndrome, hhs, rare, severe, ...</td>\n",
       "    </tr>\n",
       "    <tr>\n",
       "      <th>4</th>\n",
       "      <td>Clinico-Epidemiological Profile of Dengue in C...</td>\n",
       "      <td>[background, dengue, arboviral infection, indi...</td>\n",
       "    </tr>\n",
       "  </tbody>\n",
       "</table>\n",
       "</div>"
      ],
      "text/plain": [
       "                                               Title  \\\n",
       "0  Methicillin-Resistant Staphylococcus aureus Re...   \n",
       "1  Diverse Manifestations of Central Nervous Syst...   \n",
       "2  Anti-chikungunya Activity of a Cinnamic Acid D...   \n",
       "3  Paradoxical Hemoglobin Drop Post-Transfusion: ...   \n",
       "4  Clinico-Epidemiological Profile of Dengue in C...   \n",
       "\n",
       "                                            Entities  \n",
       "0  [renal abscesses, children, report, case, rena...  \n",
       "1  [objectives, study, evaluate, characterize, di...  \n",
       "2  [chikungunya virus, chikv, arthropod-borne vir...  \n",
       "3  [hyperhaemolysis syndrome, hhs, rare, severe, ...  \n",
       "4  [background, dengue, arboviral infection, indi...  "
      ]
     },
     "execution_count": 4,
     "metadata": {},
     "output_type": "execute_result"
    }
   ],
   "source": [
    "df[\"Entities\"] = df[\"Abstract\"].apply(extract_entities)\n",
    "df[[\"Title\", \"Entities\"]].head()"
   ]
  },
  {
   "cell_type": "markdown",
   "id": "271f4484-6a6a-419a-ae4c-3acf587618f8",
   "metadata": {},
   "source": [
    "### 2.5 Add Country Matching"
   ]
  },
  {
   "cell_type": "code",
   "execution_count": 5,
   "id": "43190c75-da6e-40ab-8bd6-1a77c36a9129",
   "metadata": {},
   "outputs": [],
   "source": [
    "# Create a country list for rule-based detection\n",
    "country_list = [country.name for country in pycountry.countries]\n",
    "\n",
    "def extract_countries(text):\n",
    "    if pd.isna(text):\n",
    "        return []\n",
    "    return [country for country in country_list if country.lower() in text.lower()]\n",
    "\n",
    "df[\"Countries\"] = df[\"Abstract\"].apply(lambda x: extract_countries(x))"
   ]
  },
  {
   "cell_type": "markdown",
   "id": "06b1d0bb-1038-4791-b02e-277debd10e98",
   "metadata": {},
   "source": [
    "### 2.6 Save Output"
   ]
  },
  {
   "cell_type": "code",
   "execution_count": 6,
   "id": "3c8d3c21-ec59-4870-86b1-aceb8cd28aa6",
   "metadata": {},
   "outputs": [],
   "source": [
    "df.to_csv(\"../Pubmed-NLP/data/abstracts_with_entities.csv\", index=False)"
   ]
  }
 ],
 "metadata": {
  "kernelspec": {
   "display_name": "Python 3 (ipykernel)",
   "language": "python",
   "name": "python3"
  },
  "language_info": {
   "codemirror_mode": {
    "name": "ipython",
    "version": 3
   },
   "file_extension": ".py",
   "mimetype": "text/x-python",
   "name": "python",
   "nbconvert_exporter": "python",
   "pygments_lexer": "ipython3",
   "version": "3.10.18"
  }
 },
 "nbformat": 4,
 "nbformat_minor": 5
}
